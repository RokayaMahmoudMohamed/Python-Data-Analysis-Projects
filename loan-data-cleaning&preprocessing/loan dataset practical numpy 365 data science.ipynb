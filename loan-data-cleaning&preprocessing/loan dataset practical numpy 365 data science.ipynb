{
 "cells": [
  {
   "cell_type": "markdown",
   "id": "dc5047d0",
   "metadata": {},
   "source": [
    "# import package"
   ]
  },
  {
   "cell_type": "code",
   "execution_count": 430,
   "id": "d4f8471e",
   "metadata": {},
   "outputs": [],
   "source": [
    "import numpy as np"
   ]
  },
  {
   "cell_type": "code",
   "execution_count": 431,
   "id": "3366674d",
   "metadata": {},
   "outputs": [],
   "source": [
    "np.set_printoptions(suppress=True,linewidth=100,precision=2)"
   ]
  },
  {
   "cell_type": "code",
   "execution_count": null,
   "id": "0b26b82c",
   "metadata": {},
   "outputs": [],
   "source": []
  },
  {
   "cell_type": "markdown",
   "id": "18463efc",
   "metadata": {},
   "source": [
    "# import dataset"
   ]
  },
  {
   "cell_type": "code",
   "execution_count": 432,
   "id": "4ba74fab",
   "metadata": {},
   "outputs": [
    {
     "data": {
      "text/plain": [
       "array([[        nan,         nan,         nan, ...,         nan,         nan,         nan],\n",
       "       [48010226.  ,         nan,    35000.  , ...,         nan,         nan,     9452.96],\n",
       "       [57693261.  ,         nan,    30000.  , ...,         nan,         nan,     4679.7 ],\n",
       "       ...,\n",
       "       [50415990.  ,         nan,    10000.  , ...,         nan,         nan,     2185.64],\n",
       "       [46154151.  ,         nan,         nan, ...,         nan,         nan,     3199.4 ],\n",
       "       [66055249.  ,         nan,    10000.  , ...,         nan,         nan,      301.9 ]])"
      ]
     },
     "execution_count": 432,
     "metadata": {},
     "output_type": "execute_result"
    }
   ],
   "source": [
    "loan_dataset=np.genfromtxt('loan-data.csv',delimiter=';')\n",
    "loan_dataset"
   ]
  },
  {
   "cell_type": "markdown",
   "id": "d41bec0d",
   "metadata": {},
   "source": [
    "# checking for incomplete data"
   ]
  },
  {
   "cell_type": "code",
   "execution_count": 433,
   "id": "b6e5cd0e",
   "metadata": {},
   "outputs": [
    {
     "data": {
      "text/plain": [
       "88019"
      ]
     },
     "execution_count": 433,
     "metadata": {},
     "output_type": "execute_result"
    }
   ],
   "source": [
    "np.isnan(loan_dataset).sum()"
   ]
  },
  {
   "cell_type": "code",
   "execution_count": 434,
   "id": "5b060492",
   "metadata": {},
   "outputs": [
    {
     "name": "stdout",
     "output_type": "stream",
     "text": [
      "[54015809.19         nan    15273.46         nan    15311.04         nan       16.62      440.92\n",
      "         nan         nan         nan         nan         nan     3143.85]\n",
      "____________________________\n",
      "68616520.0\n"
     ]
    },
    {
     "name": "stderr",
     "output_type": "stream",
     "text": [
      "C:\\Users\\PC\\AppData\\Local\\Temp\\ipykernel_13520\\1867707397.py:2: RuntimeWarning: Mean of empty slice\n",
      "  temp_mean=np.nanmean(loan_dataset,axis=0)\n"
     ]
    }
   ],
   "source": [
    "temp_fill=np.nanmax(loan_dataset)+1\n",
    "temp_mean=np.nanmean(loan_dataset,axis=0)\n",
    "print(temp_mean);print(\"____________________________\")\n",
    "print(temp_fill)\n"
   ]
  },
  {
   "cell_type": "code",
   "execution_count": 435,
   "id": "de1db811",
   "metadata": {},
   "outputs": [
    {
     "name": "stderr",
     "output_type": "stream",
     "text": [
      "C:\\Users\\PC\\AppData\\Local\\Temp\\ipykernel_13520\\2645061315.py:1: RuntimeWarning: All-NaN slice encountered\n",
      "  temp_stats=np.array([np.nanmin(loan_dataset,axis=0),temp_mean,np.nanmax(loan_dataset,axis=0)])\n"
     ]
    },
    {
     "data": {
      "text/plain": [
       "array([[  373332.  ,         nan,     1000.  ,         nan,     1000.  ,         nan,        6.  ,\n",
       "              31.42,         nan,         nan,         nan,         nan,         nan,        0.  ],\n",
       "       [54015809.19,         nan,    15273.46,         nan,    15311.04,         nan,       16.62,\n",
       "             440.92,         nan,         nan,         nan,         nan,         nan,     3143.85],\n",
       "       [68616519.  ,         nan,    35000.  ,         nan,    35000.  ,         nan,       28.99,\n",
       "            1372.97,         nan,         nan,         nan,         nan,         nan,    41913.62]])"
      ]
     },
     "execution_count": 435,
     "metadata": {},
     "output_type": "execute_result"
    }
   ],
   "source": [
    "temp_stats=np.array([np.nanmin(loan_dataset,axis=0),temp_mean,np.nanmax(loan_dataset,axis=0)])\n",
    "temp_stats"
   ]
  },
  {
   "cell_type": "code",
   "execution_count": 436,
   "id": "b8b0fbb3",
   "metadata": {},
   "outputs": [
    {
     "name": "stdout",
     "output_type": "stream",
     "text": [
      "[ 1  3  5  8  9 10 11 12]\n",
      "[ 0  2  4  6  7 13]\n"
     ]
    }
   ],
   "source": [
    "columns_strings=np.argwhere(np.isnan(temp_mean)).squeeze()\n",
    "print(columns_strings)\n",
    "\n",
    "columns_numeric=np.argwhere(np.isnan(temp_mean)==False).squeeze()\n",
    "print(columns_numeric)"
   ]
  },
  {
   "cell_type": "code",
   "execution_count": 437,
   "id": "2d143752",
   "metadata": {},
   "outputs": [
    {
     "name": "stderr",
     "output_type": "stream",
     "text": [
      "C:\\Users\\PC\\AppData\\Local\\Temp\\ipykernel_13520\\134101400.py:6: DeprecationWarning: `np.str` is a deprecated alias for the builtin `str`. To silence this warning, use `str` by itself. Doing this will not modify any behavior and is safe. If you specifically wanted the numpy scalar type, use `np.str_` here.\n",
      "Deprecated in NumPy 1.20; for more details and guidance: https://numpy.org/devdocs/release/1.20.0-notes.html#deprecations\n",
      "  dtype=np.str)\n"
     ]
    },
    {
     "data": {
      "text/plain": [
       "array([['May-15', 'Current', '36 months', ..., 'Verified',\n",
       "        'https://www.lendingclub.com/browse/loanDetail.action?loan_id=48010226', 'CA'],\n",
       "       ['', 'Current', '36 months', ..., 'Source Verified',\n",
       "        'https://www.lendingclub.com/browse/loanDetail.action?loan_id=57693261', 'NY'],\n",
       "       ['Sep-15', 'Current', '36 months', ..., 'Verified',\n",
       "        'https://www.lendingclub.com/browse/loanDetail.action?loan_id=59432726', 'PA'],\n",
       "       ...,\n",
       "       ['Jun-15', 'Current', '36 months', ..., 'Source Verified',\n",
       "        'https://www.lendingclub.com/browse/loanDetail.action?loan_id=50415990', 'CA'],\n",
       "       ['Apr-15', 'Current', '36 months', ..., 'Source Verified',\n",
       "        'https://www.lendingclub.com/browse/loanDetail.action?loan_id=46154151', 'OH'],\n",
       "       ['Dec-15', 'Current', '36 months', ..., '',\n",
       "        'https://www.lendingclub.com/browse/loanDetail.action?loan_id=66055249', 'IL']],\n",
       "      dtype='<U69')"
      ]
     },
     "execution_count": 437,
     "metadata": {},
     "output_type": "execute_result"
    }
   ],
   "source": [
    "loan_dt_string=np.genfromtxt('loan-data.csv',\n",
    "                             delimiter=';',\n",
    "                             autostrip=True,\n",
    "                             skip_header=1,\n",
    "                             usecols=columns_strings,\n",
    "                             dtype=np.str)\n",
    "loan_dt_string"
   ]
  },
  {
   "cell_type": "code",
   "execution_count": 438,
   "id": "fc087514",
   "metadata": {},
   "outputs": [
    {
     "data": {
      "text/plain": [
       "array([[48010226.  ,    35000.  ,    35000.  ,       13.33,     1184.86,     9452.96],\n",
       "       [57693261.  ,    30000.  ,    30000.  , 68616520.  ,      938.57,     4679.7 ],\n",
       "       [59432726.  ,    15000.  ,    15000.  , 68616520.  ,      494.86,     1969.83],\n",
       "       ...,\n",
       "       [50415990.  ,    10000.  ,    10000.  , 68616520.  , 68616520.  ,     2185.64],\n",
       "       [46154151.  , 68616520.  ,    10000.  ,       16.55,      354.3 ,     3199.4 ],\n",
       "       [66055249.  ,    10000.  ,    10000.  , 68616520.  ,      309.97,      301.9 ]])"
      ]
     },
     "execution_count": 438,
     "metadata": {},
     "output_type": "execute_result"
    }
   ],
   "source": [
    "loan_dt_numeric=np.genfromtxt('loan-data.csv',\n",
    "                             delimiter=';',\n",
    "                             skip_header=1,\n",
    "                             autostrip=True,\n",
    "                             usecols=columns_numeric,\n",
    "                             filling_values=temp_fill)\n",
    "loan_dt_numeric"
   ]
  },
  {
   "cell_type": "code",
   "execution_count": 439,
   "id": "d2b74e07",
   "metadata": {},
   "outputs": [
    {
     "name": "stderr",
     "output_type": "stream",
     "text": [
      "C:\\Users\\PC\\AppData\\Local\\Temp\\ipykernel_13520\\3376403822.py:5: DeprecationWarning: `np.str` is a deprecated alias for the builtin `str`. To silence this warning, use `str` by itself. Doing this will not modify any behavior and is safe. If you specifically wanted the numpy scalar type, use `np.str_` here.\n",
      "Deprecated in NumPy 1.20; for more details and guidance: https://numpy.org/devdocs/release/1.20.0-notes.html#deprecations\n",
      "  dtype=np.str)\n"
     ]
    },
    {
     "data": {
      "text/plain": [
       "array(['id', 'issue_d', 'loan_amnt', 'loan_status', 'funded_amnt', 'term', 'int_rate',\n",
       "       'installment', 'grade', 'sub_grade', 'verification_status', 'url', 'addr_state',\n",
       "       'total_pymnt'], dtype='<U19')"
      ]
     },
     "execution_count": 439,
     "metadata": {},
     "output_type": "execute_result"
    }
   ],
   "source": [
    "header_full=np.genfromtxt('loan-data.csv',\n",
    "                          delimiter=';',\n",
    "                          autostrip=True,\n",
    "                          skip_footer=loan_dataset.shape[0]-1,\n",
    "                          dtype=np.str)\n",
    "header_full"
   ]
  },
  {
   "cell_type": "code",
   "execution_count": 440,
   "id": "4ecf497a",
   "metadata": {},
   "outputs": [
    {
     "name": "stdout",
     "output_type": "stream",
     "text": [
      "['issue_d' 'loan_status' 'term' 'grade' 'sub_grade' 'verification_status' 'url' 'addr_state']\n",
      "['id' 'loan_amnt' 'funded_amnt' 'int_rate' 'installment' 'total_pymnt']\n"
     ]
    }
   ],
   "source": [
    "header_string,header_numeric=header_full[columns_strings],header_full[columns_numeric]\n",
    "print(header_string)\n",
    "print(header_numeric)"
   ]
  },
  {
   "cell_type": "markdown",
   "id": "1fcd4a2e",
   "metadata": {},
   "source": [
    "# manipulating string columns"
   ]
  },
  {
   "cell_type": "code",
   "execution_count": 441,
   "id": "20ff0fb3",
   "metadata": {},
   "outputs": [
    {
     "data": {
      "text/plain": [
       "array(['issue_id', 'loan_status', 'term', 'grade', 'sub_grade', 'verification_status', 'url',\n",
       "       'addr_state'], dtype='<U19')"
      ]
     },
     "execution_count": 441,
     "metadata": {},
     "output_type": "execute_result"
    }
   ],
   "source": [
    "header_string[0]=\"issue_id\"\n",
    "header_string"
   ]
  },
  {
   "cell_type": "markdown",
   "id": "6f4f6282",
   "metadata": {},
   "source": [
    "# 1- manipulate column date"
   ]
  },
  {
   "cell_type": "code",
   "execution_count": 442,
   "id": "67763e5a",
   "metadata": {},
   "outputs": [
    {
     "data": {
      "text/plain": [
       "array(['May-15', '', 'Sep-15', ..., 'Jun-15', 'Apr-15', 'Dec-15'], dtype='<U69')"
      ]
     },
     "execution_count": 442,
     "metadata": {},
     "output_type": "execute_result"
    }
   ],
   "source": [
    "loan_dt_string[:,0]"
   ]
  },
  {
   "cell_type": "code",
   "execution_count": 443,
   "id": "7cbf19b7",
   "metadata": {},
   "outputs": [
    {
     "data": {
      "text/plain": [
       "array(['', 'Apr-15', 'Aug-15', 'Dec-15', 'Feb-15', 'Jan-15', 'Jul-15', 'Jun-15', 'Mar-15',\n",
       "       'May-15', 'Nov-15', 'Oct-15', 'Sep-15'], dtype='<U69')"
      ]
     },
     "execution_count": 443,
     "metadata": {},
     "output_type": "execute_result"
    }
   ],
   "source": [
    "np.unique(loan_dt_string[:,0])"
   ]
  },
  {
   "cell_type": "code",
   "execution_count": 444,
   "id": "a15e394a",
   "metadata": {},
   "outputs": [
    {
     "data": {
      "text/plain": [
       "array(['May', '', 'Sep', ..., 'Jun', 'Apr', 'Dec'], dtype='<U69')"
      ]
     },
     "execution_count": 444,
     "metadata": {},
     "output_type": "execute_result"
    }
   ],
   "source": [
    "loan_dt_string[:,0]=np.chararray.strip(loan_dt_string[:,0],\"-15\")\n",
    "loan_dt_string[:,0]"
   ]
  },
  {
   "cell_type": "code",
   "execution_count": 445,
   "id": "4ea1793a",
   "metadata": {},
   "outputs": [
    {
     "data": {
      "text/plain": [
       "array(['', 'Jan', 'Feb', 'Mar', 'Apr', 'Jun', 'Jul', 'May', 'Aug', 'Sep', 'Oct', 'Nov', 'Dec'],\n",
       "      dtype='<U3')"
      ]
     },
     "execution_count": 445,
     "metadata": {},
     "output_type": "execute_result"
    }
   ],
   "source": [
    "month=np.array(['','Jan','Feb','Mar','Apr','Jun','Jul','May','Aug','Sep','Oct','Nov','Dec'])\n",
    "month\n"
   ]
  },
  {
   "cell_type": "code",
   "execution_count": 446,
   "id": "14ac4ff5",
   "metadata": {},
   "outputs": [],
   "source": [
    "for i in range(13):\n",
    "            loan_dt_string[:,0]=np.where(loan_dt_string[:,0]==month[i],i,loan_dt_string[:,0])\n",
    "       \n",
    "   "
   ]
  },
  {
   "cell_type": "code",
   "execution_count": 447,
   "id": "bfe584ab",
   "metadata": {},
   "outputs": [
    {
     "data": {
      "text/plain": [
       "array(['0', '1', '10', '11', '12', '2', '3', '4', '5', '6', '7', '8', '9'], dtype='<U69')"
      ]
     },
     "execution_count": 447,
     "metadata": {},
     "output_type": "execute_result"
    }
   ],
   "source": [
    "np.unique(loan_dt_string[:,0])"
   ]
  },
  {
   "cell_type": "markdown",
   "id": "699e2a41",
   "metadata": {},
   "source": [
    "# "
   ]
  },
  {
   "cell_type": "markdown",
   "id": "a617e716",
   "metadata": {},
   "source": [
    "# 2--manipulate column loan status"
   ]
  },
  {
   "cell_type": "code",
   "execution_count": 448,
   "id": "cb97a836",
   "metadata": {},
   "outputs": [
    {
     "data": {
      "text/plain": [
       "array(['issue_id', 'loan_status', 'term', 'grade', 'sub_grade', 'verification_status', 'url',\n",
       "       'addr_state'], dtype='<U19')"
      ]
     },
     "execution_count": 448,
     "metadata": {},
     "output_type": "execute_result"
    }
   ],
   "source": [
    "header_string"
   ]
  },
  {
   "cell_type": "code",
   "execution_count": 449,
   "id": "5ac5a795",
   "metadata": {},
   "outputs": [
    {
     "data": {
      "text/plain": [
       "array(['Current', 'Current', 'Current', ..., 'Current', 'Current', 'Current'], dtype='<U69')"
      ]
     },
     "execution_count": 449,
     "metadata": {},
     "output_type": "execute_result"
    }
   ],
   "source": [
    "loan_dt_string[:,1]"
   ]
  },
  {
   "cell_type": "code",
   "execution_count": 450,
   "id": "e1aa1850",
   "metadata": {},
   "outputs": [
    {
     "data": {
      "text/plain": [
       "9"
      ]
     },
     "execution_count": 450,
     "metadata": {},
     "output_type": "execute_result"
    }
   ],
   "source": [
    "np.unique(loan_dt_string[:,1]).size"
   ]
  },
  {
   "cell_type": "code",
   "execution_count": 451,
   "id": "1b5cdd97",
   "metadata": {},
   "outputs": [
    {
     "data": {
      "text/plain": [
       "array(['', 'Charged Off', 'Current', 'Default', 'Fully Paid', 'In Grace Period', 'Issued',\n",
       "       'Late (16-30 days)', 'Late (31-120 days)'], dtype='<U69')"
      ]
     },
     "execution_count": 451,
     "metadata": {},
     "output_type": "execute_result"
    }
   ],
   "source": [
    "#use unique to see only unique value & know what is the missing data\n",
    "\n",
    "np.unique(loan_dt_string[:,1])"
   ]
  },
  {
   "cell_type": "code",
   "execution_count": 452,
   "id": "b1418ea3",
   "metadata": {},
   "outputs": [
    {
     "data": {
      "text/plain": [
       "array(['', 'Charged Off', 'Default', 'Late (31-120 days)'], dtype='<U18')"
      ]
     },
     "execution_count": 452,
     "metadata": {},
     "output_type": "execute_result"
    }
   ],
   "source": [
    "status_bad=np.array(['','Charged Off','Default','Late (31-120 days)'])\n",
    "status_bad"
   ]
  },
  {
   "cell_type": "code",
   "execution_count": 453,
   "id": "ba3935c7",
   "metadata": {},
   "outputs": [
    {
     "data": {
      "text/plain": [
       "array(['0', '1'], dtype='<U69')"
      ]
     },
     "execution_count": 453,
     "metadata": {},
     "output_type": "execute_result"
    }
   ],
   "source": [
    "loan_dt_string[:,1]=np.where(np.isin(loan_dt_string[:,1],status_bad),0,1)\n",
    "np.unique(loan_dt_string[:,1])"
   ]
  },
  {
   "cell_type": "markdown",
   "id": "668009d8",
   "metadata": {},
   "source": [
    "# "
   ]
  },
  {
   "cell_type": "markdown",
   "id": "8ecea1d8",
   "metadata": {},
   "source": [
    "# Term"
   ]
  },
  {
   "cell_type": "code",
   "execution_count": 454,
   "id": "53fbbb81",
   "metadata": {},
   "outputs": [
    {
     "data": {
      "text/plain": [
       "array(['issue_id', 'loan_status', 'term', 'grade', 'sub_grade', 'verification_status', 'url',\n",
       "       'addr_state'], dtype='<U19')"
      ]
     },
     "execution_count": 454,
     "metadata": {},
     "output_type": "execute_result"
    }
   ],
   "source": [
    "header_string"
   ]
  },
  {
   "cell_type": "code",
   "execution_count": 455,
   "id": "49acf54e",
   "metadata": {},
   "outputs": [
    {
     "data": {
      "text/plain": [
       "array(['36 months', '36 months', '36 months', ..., '36 months', '36 months', '36 months'],\n",
       "      dtype='<U69')"
      ]
     },
     "execution_count": 455,
     "metadata": {},
     "output_type": "execute_result"
    }
   ],
   "source": [
    "loan_dt_string[:,2]"
   ]
  },
  {
   "cell_type": "code",
   "execution_count": 456,
   "id": "0d74b7f2",
   "metadata": {},
   "outputs": [
    {
     "data": {
      "text/plain": [
       "array(['', '36 months', '60 months'], dtype='<U69')"
      ]
     },
     "execution_count": 456,
     "metadata": {},
     "output_type": "execute_result"
    }
   ],
   "source": [
    "np.unique(loan_dt_string[:,2])"
   ]
  },
  {
   "cell_type": "code",
   "execution_count": 457,
   "id": "01eb758f",
   "metadata": {},
   "outputs": [
    {
     "data": {
      "text/plain": [
       "array(['36', '36', '36', ..., '36', '36', '36'], dtype='<U69')"
      ]
     },
     "execution_count": 457,
     "metadata": {},
     "output_type": "execute_result"
    }
   ],
   "source": [
    "loan_dt_string[:,2]=np.chararray.strip(loan_dt_string[:,2],\" months\")\n",
    "loan_dt_string[:,2]"
   ]
  },
  {
   "cell_type": "code",
   "execution_count": 458,
   "id": "6eb3d465",
   "metadata": {},
   "outputs": [
    {
     "data": {
      "text/plain": [
       "array(['36', '60'], dtype='<U69')"
      ]
     },
     "execution_count": 458,
     "metadata": {},
     "output_type": "execute_result"
    }
   ],
   "source": [
    "loan_dt_string[:,2]=np.where(loan_dt_string[:,2]=='','60',loan_dt_string[:,2])\n",
    "np.unique(loan_dt_string[:,2])"
   ]
  },
  {
   "cell_type": "markdown",
   "id": "0ab302e5",
   "metadata": {},
   "source": [
    "# "
   ]
  },
  {
   "cell_type": "markdown",
   "id": "28b579d9",
   "metadata": {},
   "source": [
    "# grade & subgrade"
   ]
  },
  {
   "cell_type": "code",
   "execution_count": 459,
   "id": "3304db3e",
   "metadata": {},
   "outputs": [
    {
     "data": {
      "text/plain": [
       "array(['issue_id', 'loan_status', 'term', 'grade', 'sub_grade', 'verification_status', 'url',\n",
       "       'addr_state'], dtype='<U19')"
      ]
     },
     "execution_count": 459,
     "metadata": {},
     "output_type": "execute_result"
    }
   ],
   "source": [
    "header_string"
   ]
  },
  {
   "cell_type": "code",
   "execution_count": 460,
   "id": "edc06d1c",
   "metadata": {},
   "outputs": [
    {
     "data": {
      "text/plain": [
       "array(['', 'A', 'B', 'C', 'D', 'E', 'F', 'G'], dtype='<U69')"
      ]
     },
     "execution_count": 460,
     "metadata": {},
     "output_type": "execute_result"
    }
   ],
   "source": [
    "np.unique(loan_dt_string[:,3])"
   ]
  },
  {
   "cell_type": "code",
   "execution_count": 461,
   "id": "afde86d0",
   "metadata": {},
   "outputs": [
    {
     "data": {
      "text/plain": [
       "array(['', 'A1', 'A2', 'A3', 'A4', 'A5', 'B1', 'B2', 'B3', 'B4', 'B5', 'C1', 'C2', 'C3', 'C4',\n",
       "       'C5', 'D1', 'D2', 'D3', 'D4', 'D5', 'E1', 'E2', 'E3', 'E4', 'E5', 'F1', 'F2', 'F3', 'F4',\n",
       "       'F5', 'G1', 'G2', 'G3', 'G4', 'G5'], dtype='<U69')"
      ]
     },
     "execution_count": 461,
     "metadata": {},
     "output_type": "execute_result"
    }
   ],
   "source": [
    "np.unique(loan_dt_string[:,4])"
   ]
  },
  {
   "cell_type": "markdown",
   "id": "79933739",
   "metadata": {},
   "source": [
    "# filling sub gard"
   ]
  },
  {
   "cell_type": "code",
   "execution_count": 462,
   "id": "561526e6",
   "metadata": {},
   "outputs": [],
   "source": [
    "for i in np.unique(loan_dt_string[:,3][1:]):\n",
    "    loan_dt_string[:,4]=np.where((loan_dt_string[:,4]=='') & (loan_dt_string[:,3]==i),\n",
    "                                 i + '5',\n",
    "                                 loan_dt_string[:,4])\n",
    "    "
   ]
  },
  {
   "cell_type": "code",
   "execution_count": 463,
   "id": "aea6bae5",
   "metadata": {},
   "outputs": [
    {
     "data": {
      "text/plain": [
       "array(['5', 'A1', 'A2', 'A3', 'A4', 'A5', 'B1', 'B2', 'B3', 'B4', 'B5', 'C1', 'C2', 'C3', 'C4',\n",
       "       'C5', 'D1', 'D2', 'D3', 'D4', 'D5', 'E1', 'E2', 'E3', 'E4', 'E5', 'F1', 'F2', 'F3', 'F4',\n",
       "       'F5', 'G1', 'G2', 'G3', 'G4', 'G5'], dtype='<U69')"
      ]
     },
     "execution_count": 463,
     "metadata": {},
     "output_type": "execute_result"
    }
   ],
   "source": [
    "np.unique(loan_dt_string[:,4])"
   ]
  },
  {
   "cell_type": "code",
   "execution_count": 464,
   "id": "7bf4e3b6",
   "metadata": {},
   "outputs": [],
   "source": [
    "for i in np.unique(loan_dt_string[:,4]):\n",
    "    loan_dt_string[:,4]=np.where(loan_dt_string[:,4]=='5','H1',loan_dt_string[:,4])"
   ]
  },
  {
   "cell_type": "code",
   "execution_count": 465,
   "id": "8ab08ca3",
   "metadata": {},
   "outputs": [
    {
     "data": {
      "text/plain": [
       "array(['A1', 'A2', 'A3', 'A4', 'A5', 'B1', 'B2', 'B3', 'B4', 'B5', 'C1', 'C2', 'C3', 'C4', 'C5',\n",
       "       'D1', 'D2', 'D3', 'D4', 'D5', 'E1', 'E2', 'E3', 'E4', 'E5', 'F1', 'F2', 'F3', 'F4', 'F5',\n",
       "       'G1', 'G2', 'G3', 'G4', 'G5', 'H1'], dtype='<U69')"
      ]
     },
     "execution_count": 465,
     "metadata": {},
     "output_type": "execute_result"
    }
   ],
   "source": [
    "np.unique(loan_dt_string[:,4])"
   ]
  },
  {
   "cell_type": "markdown",
   "id": "1d196830",
   "metadata": {},
   "source": [
    "# removing grad"
   ]
  },
  {
   "cell_type": "code",
   "execution_count": 466,
   "id": "4d2d58f3",
   "metadata": {},
   "outputs": [],
   "source": [
    "loan_dt_string=np.delete(loan_dt_string,3,axis=1)"
   ]
  },
  {
   "cell_type": "code",
   "execution_count": 467,
   "id": "d171e36f",
   "metadata": {},
   "outputs": [
    {
     "data": {
      "text/plain": [
       "array(['C3', 'A5', 'B5', ..., 'A5', 'D2', 'A4'], dtype='<U69')"
      ]
     },
     "execution_count": 467,
     "metadata": {},
     "output_type": "execute_result"
    }
   ],
   "source": [
    "loan_dt_string[:,3]"
   ]
  },
  {
   "cell_type": "code",
   "execution_count": 468,
   "id": "98c2f531",
   "metadata": {},
   "outputs": [],
   "source": [
    "header_string=np.delete(header_string,3)"
   ]
  },
  {
   "cell_type": "code",
   "execution_count": 469,
   "id": "5c4e510d",
   "metadata": {},
   "outputs": [
    {
     "data": {
      "text/plain": [
       "'sub_grade'"
      ]
     },
     "execution_count": 469,
     "metadata": {},
     "output_type": "execute_result"
    }
   ],
   "source": [
    "header_string[3]"
   ]
  },
  {
   "cell_type": "code",
   "execution_count": 470,
   "id": "196b2459",
   "metadata": {},
   "outputs": [
    {
     "data": {
      "text/plain": [
       "{'A1': 1,\n",
       " 'A2': 2,\n",
       " 'A3': 3,\n",
       " 'A4': 4,\n",
       " 'A5': 5,\n",
       " 'B1': 6,\n",
       " 'B2': 7,\n",
       " 'B3': 8,\n",
       " 'B4': 9,\n",
       " 'B5': 10,\n",
       " 'C1': 11,\n",
       " 'C2': 12,\n",
       " 'C3': 13,\n",
       " 'C4': 14,\n",
       " 'C5': 15,\n",
       " 'D1': 16,\n",
       " 'D2': 17,\n",
       " 'D3': 18,\n",
       " 'D4': 19,\n",
       " 'D5': 20,\n",
       " 'E1': 21,\n",
       " 'E2': 22,\n",
       " 'E3': 23,\n",
       " 'E4': 24,\n",
       " 'E5': 25,\n",
       " 'F1': 26,\n",
       " 'F2': 27,\n",
       " 'F3': 28,\n",
       " 'F4': 29,\n",
       " 'F5': 30,\n",
       " 'G1': 31,\n",
       " 'G2': 32,\n",
       " 'G3': 33,\n",
       " 'G4': 34,\n",
       " 'G5': 35,\n",
       " 'H1': 36}"
      ]
     },
     "execution_count": 470,
     "metadata": {},
     "output_type": "execute_result"
    }
   ],
   "source": [
    "keys=list(np.unique(loan_dt_string[:,3]))\n",
    "values=list(range(1,np.unique(loan_dt_string[:,3]).shape[0]+1))\n",
    "dic_sub_grad=dict(zip(keys,values))\n",
    "dic_sub_grad"
   ]
  },
  {
   "cell_type": "markdown",
   "id": "ef377a87",
   "metadata": {},
   "source": [
    "# verification status"
   ]
  },
  {
   "cell_type": "code",
   "execution_count": 471,
   "id": "e8a6b7b6",
   "metadata": {},
   "outputs": [
    {
     "data": {
      "text/plain": [
       "array(['issue_id', 'loan_status', 'term', 'sub_grade', 'verification_status', 'url', 'addr_state'],\n",
       "      dtype='<U19')"
      ]
     },
     "execution_count": 471,
     "metadata": {},
     "output_type": "execute_result"
    }
   ],
   "source": [
    "header_string"
   ]
  },
  {
   "cell_type": "code",
   "execution_count": 472,
   "id": "8e295d0b",
   "metadata": {},
   "outputs": [
    {
     "data": {
      "text/plain": [
       "array(['', 'Not Verified', 'Source Verified', 'Verified'], dtype='<U69')"
      ]
     },
     "execution_count": 472,
     "metadata": {},
     "output_type": "execute_result"
    }
   ],
   "source": [
    "np.unique(loan_dt_string[:,4])"
   ]
  },
  {
   "cell_type": "code",
   "execution_count": 473,
   "id": "276fa0b6",
   "metadata": {},
   "outputs": [],
   "source": [
    "loan_dt_string[:,4]=np.where((loan_dt_string[:,4]=='')|(loan_dt_string[:,4]=='Not Verified'),0,1)"
   ]
  },
  {
   "cell_type": "code",
   "execution_count": 474,
   "id": "dbbbebc2",
   "metadata": {},
   "outputs": [
    {
     "data": {
      "text/plain": [
       "array(['0', '1'], dtype='<U69')"
      ]
     },
     "execution_count": 474,
     "metadata": {},
     "output_type": "execute_result"
    }
   ],
   "source": [
    "np.unique(loan_dt_string[:,4])"
   ]
  },
  {
   "cell_type": "markdown",
   "id": "3dfba35e",
   "metadata": {},
   "source": [
    "# "
   ]
  },
  {
   "cell_type": "markdown",
   "id": "af9c89d8",
   "metadata": {},
   "source": [
    "# URL"
   ]
  },
  {
   "cell_type": "code",
   "execution_count": 475,
   "id": "b2651020",
   "metadata": {},
   "outputs": [
    {
     "data": {
      "text/plain": [
       "array(['issue_id', 'loan_status', 'term', 'sub_grade', 'verification_status', 'url', 'addr_state'],\n",
       "      dtype='<U19')"
      ]
     },
     "execution_count": 475,
     "metadata": {},
     "output_type": "execute_result"
    }
   ],
   "source": [
    "header_string"
   ]
  },
  {
   "cell_type": "code",
   "execution_count": 476,
   "id": "b3357549",
   "metadata": {},
   "outputs": [
    {
     "data": {
      "text/plain": [
       "array(['https://www.lendingclub.com/browse/loanDetail.action?loan_id=48010226',\n",
       "       'https://www.lendingclub.com/browse/loanDetail.action?loan_id=57693261',\n",
       "       'https://www.lendingclub.com/browse/loanDetail.action?loan_id=59432726', ...,\n",
       "       'https://www.lendingclub.com/browse/loanDetail.action?loan_id=50415990',\n",
       "       'https://www.lendingclub.com/browse/loanDetail.action?loan_id=46154151',\n",
       "       'https://www.lendingclub.com/browse/loanDetail.action?loan_id=66055249'], dtype='<U69')"
      ]
     },
     "execution_count": 476,
     "metadata": {},
     "output_type": "execute_result"
    }
   ],
   "source": [
    "loan_dt_string[:,5]"
   ]
  },
  {
   "cell_type": "code",
   "execution_count": 477,
   "id": "5c4a1780",
   "metadata": {},
   "outputs": [
    {
     "data": {
      "text/plain": [
       "chararray(['48010226', '57693261', '59432726', ..., '50415990', '46154151', '66055249'],\n",
       "          dtype='<U69')"
      ]
     },
     "execution_count": 477,
     "metadata": {},
     "output_type": "execute_result"
    }
   ],
   "source": [
    "np.chararray.strip(loan_dt_string[:,5],'https://www.lendingclub.com/browse/loanDetail.action?loan_id=')"
   ]
  },
  {
   "cell_type": "code",
   "execution_count": 478,
   "id": "a0e29dda",
   "metadata": {},
   "outputs": [
    {
     "data": {
      "text/plain": [
       "array([      nan, 48010226., 57693261., ..., 50415990., 46154151., 66055249.])"
      ]
     },
     "execution_count": 478,
     "metadata": {},
     "output_type": "execute_result"
    }
   ],
   "source": [
    "loan_dataset[:,0]"
   ]
  },
  {
   "cell_type": "code",
   "execution_count": 479,
   "id": "601ead28",
   "metadata": {},
   "outputs": [],
   "source": [
    "loan_dt_string[:,5]=np.chararray.strip(loan_dt_string[:,5],'https://www.lendingclub.com/browse/loanDetail.action?loan_id=')"
   ]
  },
  {
   "cell_type": "code",
   "execution_count": 480,
   "id": "32a00b4c",
   "metadata": {},
   "outputs": [
    {
     "data": {
      "text/plain": [
       "array([48010226, 57693261, 59432726, ..., 50415990, 46154151, 66055249])"
      ]
     },
     "execution_count": 480,
     "metadata": {},
     "output_type": "execute_result"
    }
   ],
   "source": [
    "loan_dt_numeric[:,0].astype(dtype=np.int32)\n",
    "loan_dt_string[:,5].astype(dtype=np.int32)"
   ]
  },
  {
   "cell_type": "code",
   "execution_count": 481,
   "id": "0508fa57",
   "metadata": {},
   "outputs": [
    {
     "data": {
      "text/plain": [
       "True"
      ]
     },
     "execution_count": 481,
     "metadata": {},
     "output_type": "execute_result"
    }
   ],
   "source": [
    "# note it should be equivilant but we will assume it is equal beacuase we will delete it\n",
    "np.array_equal(loan_dt_numeric[:,0].astype(dtype=np.int32),loan_dt_string[:,5].astype(dtype=np.int32))"
   ]
  },
  {
   "cell_type": "code",
   "execution_count": 482,
   "id": "c5446cd0",
   "metadata": {},
   "outputs": [],
   "source": [
    "loan_dt_string=np.delete(loan_dt_string,5,axis=1)\n",
    "header_string=np.delete(header_string,5)"
   ]
  },
  {
   "cell_type": "code",
   "execution_count": 483,
   "id": "9c2a3aa5",
   "metadata": {},
   "outputs": [
    {
     "data": {
      "text/plain": [
       "array([['7', '1', '36', 'C3', '1', 'CA'],\n",
       "       ['0', '1', '36', 'A5', '1', 'NY'],\n",
       "       ['9', '1', '36', 'B5', '1', 'PA'],\n",
       "       ...,\n",
       "       ['5', '1', '36', 'A5', '1', 'CA'],\n",
       "       ['4', '1', '36', 'D2', '1', 'OH'],\n",
       "       ['12', '1', '36', 'A4', '0', 'IL']], dtype='<U69')"
      ]
     },
     "execution_count": 483,
     "metadata": {},
     "output_type": "execute_result"
    }
   ],
   "source": [
    "loan_dt_string"
   ]
  },
  {
   "cell_type": "code",
   "execution_count": 484,
   "id": "18dad0c4",
   "metadata": {},
   "outputs": [
    {
     "data": {
      "text/plain": [
       "array(['issue_id', 'loan_status', 'term', 'sub_grade', 'verification_status', 'addr_state'],\n",
       "      dtype='<U19')"
      ]
     },
     "execution_count": 484,
     "metadata": {},
     "output_type": "execute_result"
    }
   ],
   "source": [
    "header_string"
   ]
  },
  {
   "cell_type": "markdown",
   "id": "b23b5600",
   "metadata": {},
   "source": [
    "# "
   ]
  },
  {
   "cell_type": "markdown",
   "id": "714347bb",
   "metadata": {},
   "source": [
    "# state address"
   ]
  },
  {
   "cell_type": "code",
   "execution_count": 485,
   "id": "6b2fd42b",
   "metadata": {},
   "outputs": [
    {
     "data": {
      "text/plain": [
       "array(['issue_id', 'loan_status', 'term', 'sub_grade', 'verification_status', 'addr_state'],\n",
       "      dtype='<U19')"
      ]
     },
     "execution_count": 485,
     "metadata": {},
     "output_type": "execute_result"
    }
   ],
   "source": [
    "header_string"
   ]
  },
  {
   "cell_type": "code",
   "execution_count": null,
   "id": "c4c43065",
   "metadata": {},
   "outputs": [],
   "source": []
  },
  {
   "cell_type": "code",
   "execution_count": 486,
   "id": "abd4d533",
   "metadata": {},
   "outputs": [
    {
     "data": {
      "text/plain": [
       "array(['7', '1', '36', 'C3', '1', 'CA'], dtype='<U69')"
      ]
     },
     "execution_count": 486,
     "metadata": {},
     "output_type": "execute_result"
    }
   ],
   "source": [
    "loan_dt_string[0,:]"
   ]
  },
  {
   "cell_type": "code",
   "execution_count": 487,
   "id": "f7df6292",
   "metadata": {},
   "outputs": [
    {
     "data": {
      "text/plain": [
       "(array(['CA', 'NY', 'TX', 'FL', '', 'IL', 'NJ', 'GA', 'PA', 'OH', 'MI', 'NC', 'VA', 'MD', 'AZ',\n",
       "        'WA', 'MA', 'CO', 'MO', 'MN', 'IN', 'WI', 'CT', 'TN', 'NV', 'AL', 'LA', 'OR', 'SC', 'KY',\n",
       "        'KS', 'OK', 'UT', 'AR', 'MS', 'NH', 'NM', 'WV', 'HI', 'RI', 'MT', 'DE', 'DC', 'WY', 'AK',\n",
       "        'NE', 'SD', 'VT', 'ND', 'ME'], dtype='<U69'),\n",
       " array([1336,  777,  758,  690,  500,  389,  341,  321,  320,  312,  267,  261,  242,  222,  220,\n",
       "         216,  210,  201,  160,  156,  152,  148,  143,  143,  130,  119,  116,  108,  107,   84,\n",
       "          84,   83,   74,   74,   61,   58,   57,   49,   44,   40,   28,   27,   27,   27,   26,\n",
       "          25,   24,   17,   16,   10], dtype=int64))"
      ]
     },
     "execution_count": 487,
     "metadata": {},
     "output_type": "execute_result"
    }
   ],
   "source": [
    "states_names,states_count=np.unique(loan_dt_string[:,5],return_counts=True)\n",
    "states_count_sorted=np.argsort(-states_count)\n",
    "states_names[states_count_sorted],states_count[states_count_sorted]"
   ]
  },
  {
   "cell_type": "code",
   "execution_count": 488,
   "id": "603d2707",
   "metadata": {},
   "outputs": [],
   "source": [
    "loan_dt_string[:,5]=np.where(loan_dt_string[:,5]=='',0,loan_dt_string[:,5])"
   ]
  },
  {
   "cell_type": "code",
   "execution_count": 489,
   "id": "f8ab3e33",
   "metadata": {},
   "outputs": [],
   "source": [
    "states_west=np.array(['WA','OR','CA','NV','ID','MT','WY','UT','CO','AZ','NM','HI','AK'])\n",
    "states_south=np.array(['TX','OK','AR','LA','MS','AL','TN','KY','FL','GA','SC','NC','WV','VA','MD','DC','DE'])\n",
    "states_midwest=np.array(['ND','SD','NE','KS','MN','IA','MO','WI','IL','IN','MI','OH'])\n",
    "states_east=np.array(['PA','NY','NJ','CT','MA','VT','NH','ME','RI'])"
   ]
  },
  {
   "cell_type": "code",
   "execution_count": 490,
   "id": "7567d0c6",
   "metadata": {},
   "outputs": [],
   "source": [
    "loan_dt_string[:,5]=np.where(np.isin(loan_dt_string[:,5],states_west),1,loan_dt_string[:,5])\n",
    "loan_dt_string[:,5]=np.where(np.isin(loan_dt_string[:,5],states_south),2,loan_dt_string[:,5])\n",
    "loan_dt_string[:,5]=np.where(np.isin(loan_dt_string[:,5],states_midwest),3,loan_dt_string[:,5])\n",
    "loan_dt_string[:,5]=np.where(np.isin(loan_dt_string[:,5],states_east),4,loan_dt_string[:,5])"
   ]
  },
  {
   "cell_type": "code",
   "execution_count": 491,
   "id": "07879bec",
   "metadata": {},
   "outputs": [
    {
     "data": {
      "text/plain": [
       "array(['0', '1', '2', '3', '4'], dtype='<U69')"
      ]
     },
     "execution_count": 491,
     "metadata": {},
     "output_type": "execute_result"
    }
   ],
   "source": [
    "np.unique(loan_dt_string[:,5])"
   ]
  },
  {
   "cell_type": "markdown",
   "id": "5be869e3",
   "metadata": {},
   "source": [
    "# "
   ]
  },
  {
   "cell_type": "markdown",
   "id": "1f42fd99",
   "metadata": {},
   "source": [
    "# manipulating numeric columns"
   ]
  },
  {
   "cell_type": "code",
   "execution_count": 492,
   "id": "46930a8f",
   "metadata": {},
   "outputs": [
    {
     "data": {
      "text/plain": [
       "array([[48010226.  ,    35000.  ,    35000.  ,       13.33,     1184.86,     9452.96],\n",
       "       [57693261.  ,    30000.  ,    30000.  , 68616520.  ,      938.57,     4679.7 ],\n",
       "       [59432726.  ,    15000.  ,    15000.  , 68616520.  ,      494.86,     1969.83],\n",
       "       ...,\n",
       "       [50415990.  ,    10000.  ,    10000.  , 68616520.  , 68616520.  ,     2185.64],\n",
       "       [46154151.  , 68616520.  ,    10000.  ,       16.55,      354.3 ,     3199.4 ],\n",
       "       [66055249.  ,    10000.  ,    10000.  , 68616520.  ,      309.97,      301.9 ]])"
      ]
     },
     "execution_count": 492,
     "metadata": {},
     "output_type": "execute_result"
    }
   ],
   "source": [
    "loan_dt_numeric"
   ]
  },
  {
   "cell_type": "code",
   "execution_count": 493,
   "id": "c1fe2d1e",
   "metadata": {},
   "outputs": [
    {
     "data": {
      "text/plain": [
       "array(['id', 'loan_amnt', 'funded_amnt', 'int_rate', 'installment', 'total_pymnt'], dtype='<U19')"
      ]
     },
     "execution_count": 493,
     "metadata": {},
     "output_type": "execute_result"
    }
   ],
   "source": [
    "header_numeric"
   ]
  },
  {
   "cell_type": "markdown",
   "id": "1e103168",
   "metadata": {},
   "source": [
    "# ID"
   ]
  },
  {
   "cell_type": "code",
   "execution_count": 494,
   "id": "0a847df5",
   "metadata": {},
   "outputs": [
    {
     "data": {
      "text/plain": [
       "0"
      ]
     },
     "execution_count": 494,
     "metadata": {},
     "output_type": "execute_result"
    }
   ],
   "source": [
    "#checking for nan value in id column using temp_fill\n",
    "np.isin(loan_dt_numeric[:,0],temp_fill).sum()"
   ]
  },
  {
   "cell_type": "code",
   "execution_count": 495,
   "id": "99881b39",
   "metadata": {},
   "outputs": [
    {
     "data": {
      "text/plain": [
       "array([[  373332.  ,         nan,     1000.  ,         nan,     1000.  ,         nan,        6.  ,\n",
       "              31.42,         nan,         nan,         nan,         nan,         nan,        0.  ],\n",
       "       [54015809.19,         nan,    15273.46,         nan,    15311.04,         nan,       16.62,\n",
       "             440.92,         nan,         nan,         nan,         nan,         nan,     3143.85],\n",
       "       [68616519.  ,         nan,    35000.  ,         nan,    35000.  ,         nan,       28.99,\n",
       "            1372.97,         nan,         nan,         nan,         nan,         nan,    41913.62]])"
      ]
     },
     "execution_count": 495,
     "metadata": {},
     "output_type": "execute_result"
    }
   ],
   "source": [
    "temp_stats"
   ]
  },
  {
   "cell_type": "code",
   "execution_count": 496,
   "id": "903a2eff",
   "metadata": {},
   "outputs": [
    {
     "data": {
      "text/plain": [
       "array([[  373332.  ,     1000.  ,     1000.  ,        6.  ,       31.42,        0.  ],\n",
       "       [54015809.19,    15273.46,    15311.04,       16.62,      440.92,     3143.85],\n",
       "       [68616519.  ,    35000.  ,    35000.  ,       28.99,     1372.97,    41913.62]])"
      ]
     },
     "execution_count": 496,
     "metadata": {},
     "output_type": "execute_result"
    }
   ],
   "source": [
    "temp_stats[:,columns_numeric]"
   ]
  },
  {
   "cell_type": "markdown",
   "id": "c2322e94",
   "metadata": {},
   "source": [
    "# funded amount"
   ]
  },
  {
   "cell_type": "code",
   "execution_count": 497,
   "id": "6b013283",
   "metadata": {},
   "outputs": [
    {
     "data": {
      "text/plain": [
       "array([35000., 30000., 15000., ..., 10000., 10000., 10000.])"
      ]
     },
     "execution_count": 497,
     "metadata": {},
     "output_type": "execute_result"
    }
   ],
   "source": [
    "loan_dt_numeric[:,2]"
   ]
  },
  {
   "cell_type": "code",
   "execution_count": 498,
   "id": "761ecd80",
   "metadata": {},
   "outputs": [
    {
     "data": {
      "text/plain": [
       "array([35000., 30000., 15000., ..., 10000., 10000., 10000.])"
      ]
     },
     "execution_count": 498,
     "metadata": {},
     "output_type": "execute_result"
    }
   ],
   "source": [
    "loan_dt_numeric[:,2]=np.where(loan_dt_numeric[:,2]==temp_fill,temp_stats[0,columns_numeric[2]],loan_dt_numeric[:,2])\n",
    "loan_dt_numeric[:,2]"
   ]
  },
  {
   "cell_type": "code",
   "execution_count": 499,
   "id": "41786c0c",
   "metadata": {},
   "outputs": [
    {
     "data": {
      "text/plain": [
       "array([ 0,  2,  4,  6,  7, 13], dtype=int64)"
      ]
     },
     "execution_count": 499,
     "metadata": {},
     "output_type": "execute_result"
    }
   ],
   "source": [
    "columns_numeric"
   ]
  },
  {
   "cell_type": "markdown",
   "id": "64f86741",
   "metadata": {},
   "source": [
    "# loaned amount, interest rate, total payment, installment"
   ]
  },
  {
   "cell_type": "code",
   "execution_count": 500,
   "id": "bd5e9d87",
   "metadata": {},
   "outputs": [
    {
     "data": {
      "text/plain": [
       "array(['id', 'loan_amnt', 'funded_amnt', 'int_rate', 'installment', 'total_pymnt'], dtype='<U19')"
      ]
     },
     "execution_count": 500,
     "metadata": {},
     "output_type": "execute_result"
    }
   ],
   "source": [
    "header_numeric"
   ]
  },
  {
   "cell_type": "code",
   "execution_count": 501,
   "id": "6f8ba969",
   "metadata": {},
   "outputs": [],
   "source": [
    "for i in [1,3,4,5]:\n",
    "    loan_dt_numeric[:,i]=np.where(loan_dt_numeric[:,2]==temp_fill,temp_stats[2,columns_numeric[i]],loan_dt_numeric[:,i])\n",
    "    \n"
   ]
  },
  {
   "cell_type": "code",
   "execution_count": 502,
   "id": "0fcf7537",
   "metadata": {},
   "outputs": [
    {
     "data": {
      "text/plain": [
       "array([[48010226.  ,    35000.  ,    35000.  ,       13.33,     1184.86,     9452.96],\n",
       "       [57693261.  ,    30000.  ,    30000.  , 68616520.  ,      938.57,     4679.7 ],\n",
       "       [59432726.  ,    15000.  ,    15000.  , 68616520.  ,      494.86,     1969.83],\n",
       "       ...,\n",
       "       [50415990.  ,    10000.  ,    10000.  , 68616520.  , 68616520.  ,     2185.64],\n",
       "       [46154151.  , 68616520.  ,    10000.  ,       16.55,      354.3 ,     3199.4 ],\n",
       "       [66055249.  ,    10000.  ,    10000.  , 68616520.  ,      309.97,      301.9 ]])"
      ]
     },
     "execution_count": 502,
     "metadata": {},
     "output_type": "execute_result"
    }
   ],
   "source": [
    "loan_dt_numeric    "
   ]
  },
  {
   "cell_type": "markdown",
   "id": "c00f0488",
   "metadata": {},
   "source": [
    "# currency change"
   ]
  },
  {
   "cell_type": "code",
   "execution_count": 503,
   "id": "2006ba0a",
   "metadata": {},
   "outputs": [
    {
     "data": {
      "text/plain": [
       "array([1.13, 1.12, 1.08, 1.11, 1.1 , 1.12, 1.09, 1.13, 1.13, 1.1 , 1.06, 1.09])"
      ]
     },
     "execution_count": 503,
     "metadata": {},
     "output_type": "execute_result"
    }
   ],
   "source": [
    "EUR_USD=np.genfromtxt('EUR-USD.csv',delimiter=',',autostrip=True,skip_header=1,usecols=3).round(2)\n",
    "EUR_USD"
   ]
  },
  {
   "cell_type": "code",
   "execution_count": 504,
   "id": "58f7da49",
   "metadata": {},
   "outputs": [
    {
     "data": {
      "text/plain": [
       "array(['10', '1', '60', 'C4', '0', '2'], dtype='<U69')"
      ]
     },
     "execution_count": 504,
     "metadata": {},
     "output_type": "execute_result"
    }
   ],
   "source": [
    "loan_dt_string[5]"
   ]
  },
  {
   "cell_type": "code",
   "execution_count": 505,
   "id": "a75cca1f",
   "metadata": {},
   "outputs": [
    {
     "data": {
      "text/plain": [
       "array(['issue_id', 'loan_status', 'term', 'sub_grade', 'verification_status', 'addr_state'],\n",
       "      dtype='<U19')"
      ]
     },
     "execution_count": 505,
     "metadata": {},
     "output_type": "execute_result"
    }
   ],
   "source": [
    "header_string"
   ]
  },
  {
   "cell_type": "code",
   "execution_count": 506,
   "id": "44b43703",
   "metadata": {},
   "outputs": [],
   "source": [
    "ss=loan_dt_string[:,0].astype(dtype=np.int32)\n"
   ]
  },
  {
   "cell_type": "code",
   "execution_count": 507,
   "id": "6c1726b2",
   "metadata": {},
   "outputs": [
    {
     "data": {
      "text/plain": [
       "array([1.09, 1.1 , 1.13, ..., 1.1 , 1.11, 1.09])"
      ]
     },
     "execution_count": 507,
     "metadata": {},
     "output_type": "execute_result"
    }
   ],
   "source": [
    "exchange_rate=loan_dt_string[:,0].astype(dtype=np.int32)\n",
    "\n",
    "for i in range(1,13):\n",
    "    exchange_rate=np.where(exchange_rate==i,EUR_USD[i-1],exchange_rate)\n",
    "\n",
    "    \n",
    "exchange_rate=np.where(exchange_rate==0,np.mean(EUR_USD),exchange_rate)\n",
    "exchange_rate"
   ]
  },
  {
   "cell_type": "code",
   "execution_count": 508,
   "id": "88b153f7",
   "metadata": {},
   "outputs": [
    {
     "data": {
      "text/plain": [
       "(10000,)"
      ]
     },
     "execution_count": 508,
     "metadata": {},
     "output_type": "execute_result"
    }
   ],
   "source": [
    "exchange_rate.shape"
   ]
  },
  {
   "cell_type": "code",
   "execution_count": 509,
   "id": "cd9afc8e",
   "metadata": {},
   "outputs": [
    {
     "data": {
      "text/plain": [
       "(10000, 6)"
      ]
     },
     "execution_count": 509,
     "metadata": {},
     "output_type": "execute_result"
    }
   ],
   "source": [
    "loan_dt_numeric.shape"
   ]
  },
  {
   "cell_type": "code",
   "execution_count": 510,
   "id": "f56c8c9e",
   "metadata": {},
   "outputs": [],
   "source": [
    "exchange_rate=np.reshape(exchange_rate,(10000,1))"
   ]
  },
  {
   "cell_type": "code",
   "execution_count": 511,
   "id": "d4e96a75",
   "metadata": {},
   "outputs": [
    {
     "data": {
      "text/plain": [
       "(10000, 1)"
      ]
     },
     "execution_count": 511,
     "metadata": {},
     "output_type": "execute_result"
    }
   ],
   "source": [
    "exchange_rate.shape"
   ]
  },
  {
   "cell_type": "code",
   "execution_count": 512,
   "id": "b2567e78",
   "metadata": {},
   "outputs": [],
   "source": [
    "loan_dt_numeric=np.hstack((loan_dt_numeric,exchange_rate))"
   ]
  },
  {
   "cell_type": "code",
   "execution_count": 513,
   "id": "7485eda7",
   "metadata": {},
   "outputs": [
    {
     "data": {
      "text/plain": [
       "array([[48010226.  ,    35000.  ,    35000.  , ...,     1184.86,     9452.96,        1.09],\n",
       "       [57693261.  ,    30000.  ,    30000.  , ...,      938.57,     4679.7 ,        1.1 ],\n",
       "       [59432726.  ,    15000.  ,    15000.  , ...,      494.86,     1969.83,        1.13],\n",
       "       ...,\n",
       "       [50415990.  ,    10000.  ,    10000.  , ..., 68616520.  ,     2185.64,        1.1 ],\n",
       "       [46154151.  , 68616520.  ,    10000.  , ...,      354.3 ,     3199.4 ,        1.11],\n",
       "       [66055249.  ,    10000.  ,    10000.  , ...,      309.97,      301.9 ,        1.09]])"
      ]
     },
     "execution_count": 513,
     "metadata": {},
     "output_type": "execute_result"
    }
   ],
   "source": [
    "loan_dt_numeric"
   ]
  },
  {
   "cell_type": "code",
   "execution_count": 514,
   "id": "92791c93",
   "metadata": {},
   "outputs": [
    {
     "data": {
      "text/plain": [
       "array(['id', 'loan_amnt', 'funded_amnt', 'int_rate', 'installment', 'total_pymnt', 'exchange_rate'],\n",
       "      dtype='<U19')"
      ]
     },
     "execution_count": 514,
     "metadata": {},
     "output_type": "execute_result"
    }
   ],
   "source": [
    "header_numeric=np.concatenate((header_numeric,np.array([\"exchange_rate\"])))\n",
    "header_numeric"
   ]
  },
  {
   "cell_type": "markdown",
   "id": "8f2f3c87",
   "metadata": {},
   "source": [
    "# "
   ]
  },
  {
   "cell_type": "markdown",
   "id": "d26b5c96",
   "metadata": {},
   "source": [
    "# from USD TO EUR"
   ]
  },
  {
   "cell_type": "code",
   "execution_count": 515,
   "id": "5117483d",
   "metadata": {},
   "outputs": [
    {
     "data": {
      "text/plain": [
       "array(['id', 'loan_amnt', 'funded_amnt', 'int_rate', 'installment', 'total_pymnt', 'exchange_rate'],\n",
       "      dtype='<U19')"
      ]
     },
     "execution_count": 515,
     "metadata": {},
     "output_type": "execute_result"
    }
   ],
   "source": [
    "header_numeric"
   ]
  },
  {
   "cell_type": "code",
   "execution_count": 516,
   "id": "667d4cca",
   "metadata": {},
   "outputs": [],
   "source": [
    "columns_dollar=np.array([1,2,4,5])"
   ]
  },
  {
   "cell_type": "code",
   "execution_count": 517,
   "id": "9d36c8ee",
   "metadata": {},
   "outputs": [
    {
     "data": {
      "text/plain": [
       "array([1.09, 1.1 , 1.13, ..., 1.1 , 1.11, 1.09])"
      ]
     },
     "execution_count": 517,
     "metadata": {},
     "output_type": "execute_result"
    }
   ],
   "source": [
    "loan_dt_numeric[:,6]"
   ]
  },
  {
   "cell_type": "code",
   "execution_count": 518,
   "id": "b4cb137b",
   "metadata": {},
   "outputs": [],
   "source": [
    "for i in columns_dollar:\n",
    "    loan_dt_numeric=np.hstack((loan_dt_numeric,np.reshape(loan_dt_numeric[:,i]/loan_dt_numeric[:,6],(10000,1))))"
   ]
  },
  {
   "cell_type": "code",
   "execution_count": 519,
   "id": "06c920a6",
   "metadata": {},
   "outputs": [
    {
     "data": {
      "text/plain": [
       "array([[48010226.  ,    35000.  ,    35000.  , ...,    32110.09,     1087.03,     8672.44],\n",
       "       [57693261.  ,    30000.  ,    30000.  , ...,    27149.32,      849.38,     4235.02],\n",
       "       [59432726.  ,    15000.  ,    15000.  , ...,    13274.34,      437.93,     1743.21],\n",
       "       ...,\n",
       "       [50415990.  ,    10000.  ,    10000.  , ...,     9090.91, 62378654.55,     1986.95],\n",
       "       [46154151.  , 68616520.  ,    10000.  , ...,     9009.01,      319.19,     2882.34],\n",
       "       [66055249.  ,    10000.  ,    10000.  , ...,     9174.31,      284.38,      276.97]])"
      ]
     },
     "execution_count": 519,
     "metadata": {},
     "output_type": "execute_result"
    }
   ],
   "source": [
    "loan_dt_numeric"
   ]
  },
  {
   "cell_type": "code",
   "execution_count": 520,
   "id": "9bbf2140",
   "metadata": {},
   "outputs": [
    {
     "data": {
      "text/plain": [
       "(10000, 11)"
      ]
     },
     "execution_count": 520,
     "metadata": {},
     "output_type": "execute_result"
    }
   ],
   "source": [
    "loan_dt_numeric.shape"
   ]
  },
  {
   "cell_type": "markdown",
   "id": "7f8e04c1",
   "metadata": {},
   "source": [
    "# expanding the header"
   ]
  },
  {
   "cell_type": "code",
   "execution_count": 521,
   "id": "2353efca",
   "metadata": {},
   "outputs": [],
   "source": [
    "header_additional=np.array([column_name+'_EUR' for column_name in header_numeric[columns_dollar]])\n"
   ]
  },
  {
   "cell_type": "code",
   "execution_count": 522,
   "id": "949284be",
   "metadata": {},
   "outputs": [
    {
     "data": {
      "text/plain": [
       "array(['loan_amnt_EUR', 'funded_amnt_EUR', 'installment_EUR', 'total_pymnt_EUR'], dtype='<U15')"
      ]
     },
     "execution_count": 522,
     "metadata": {},
     "output_type": "execute_result"
    }
   ],
   "source": [
    "header_additional"
   ]
  },
  {
   "cell_type": "code",
   "execution_count": 523,
   "id": "ba5b9eda",
   "metadata": {},
   "outputs": [],
   "source": [
    "header_numeric=np.concatenate((header_numeric,header_additional))"
   ]
  },
  {
   "cell_type": "code",
   "execution_count": 524,
   "id": "1c3c80ed",
   "metadata": {},
   "outputs": [
    {
     "data": {
      "text/plain": [
       "array(['id', 'loan_amnt', 'funded_amnt', 'int_rate', 'installment', 'total_pymnt', 'exchange_rate',\n",
       "       'loan_amnt_EUR', 'funded_amnt_EUR', 'installment_EUR', 'total_pymnt_EUR'], dtype='<U19')"
      ]
     },
     "execution_count": 524,
     "metadata": {},
     "output_type": "execute_result"
    }
   ],
   "source": [
    "header_numeric"
   ]
  },
  {
   "cell_type": "code",
   "execution_count": 525,
   "id": "72d0da28",
   "metadata": {},
   "outputs": [],
   "source": [
    "header_numeric[columns_dollar]=np.array([column_name+'_USD' for column_name in header_numeric[columns_dollar]])"
   ]
  },
  {
   "cell_type": "code",
   "execution_count": 526,
   "id": "ccb8e9d9",
   "metadata": {},
   "outputs": [
    {
     "data": {
      "text/plain": [
       "array(['id', 'loan_amnt_USD', 'funded_amnt_USD', 'int_rate', 'installment_USD', 'total_pymnt_USD',\n",
       "       'exchange_rate', 'loan_amnt_EUR', 'funded_amnt_EUR', 'installment_EUR', 'total_pymnt_EUR'],\n",
       "      dtype='<U19')"
      ]
     },
     "execution_count": 526,
     "metadata": {},
     "output_type": "execute_result"
    }
   ],
   "source": [
    "header_numeric"
   ]
  },
  {
   "cell_type": "code",
   "execution_count": 527,
   "id": "4d94d6c7",
   "metadata": {},
   "outputs": [
    {
     "data": {
      "text/plain": [
       "array(['id', 'loan_amnt_USD', 'loan_amnt_EUR', 'funded_amnt_USD', 'funded_amnt_EUR', 'int_rate',\n",
       "       'installment_USD', 'installment_EUR', 'total_pymnt_USD', 'total_pymnt_EUR', 'exchange_rate'],\n",
       "      dtype='<U19')"
      ]
     },
     "execution_count": 527,
     "metadata": {},
     "output_type": "execute_result"
    }
   ],
   "source": [
    "#will reorder the column to make every USD followed by it's EUR columns\n",
    "column_indx_order=[0,1,7,2,8,3,4,9,5,10,6]\n",
    "\n",
    "header_numeric=header_numeric[column_indx_order]\n",
    "header_numeric"
   ]
  },
  {
   "cell_type": "code",
   "execution_count": 528,
   "id": "2253a809",
   "metadata": {},
   "outputs": [
    {
     "data": {
      "text/plain": [
       "array([[48010226.  ,    35000.  ,    35000.  , ...,    32110.09,     1087.03,     8672.44],\n",
       "       [57693261.  ,    30000.  ,    30000.  , ...,    27149.32,      849.38,     4235.02],\n",
       "       [59432726.  ,    15000.  ,    15000.  , ...,    13274.34,      437.93,     1743.21],\n",
       "       ...,\n",
       "       [50415990.  ,    10000.  ,    10000.  , ...,     9090.91, 62378654.55,     1986.95],\n",
       "       [46154151.  , 68616520.  ,    10000.  , ...,     9009.01,      319.19,     2882.34],\n",
       "       [66055249.  ,    10000.  ,    10000.  , ...,     9174.31,      284.38,      276.97]])"
      ]
     },
     "execution_count": 528,
     "metadata": {},
     "output_type": "execute_result"
    }
   ],
   "source": [
    "loan_dt_numeric"
   ]
  },
  {
   "cell_type": "code",
   "execution_count": 529,
   "id": "4d041d15",
   "metadata": {},
   "outputs": [
    {
     "data": {
      "text/plain": [
       "array([[48010226.  ,    35000.  ,    32110.09, ...,     9452.96,     8672.44,        1.09],\n",
       "       [57693261.  ,    30000.  ,    27149.32, ...,     4679.7 ,     4235.02,        1.1 ],\n",
       "       [59432726.  ,    15000.  ,    13274.34, ...,     1969.83,     1743.21,        1.13],\n",
       "       ...,\n",
       "       [50415990.  ,    10000.  ,     9090.91, ...,     2185.64,     1986.95,        1.1 ],\n",
       "       [46154151.  , 68616520.  , 61816684.68, ...,     3199.4 ,     2882.34,        1.11],\n",
       "       [66055249.  ,    10000.  ,     9174.31, ...,      301.9 ,      276.97,        1.09]])"
      ]
     },
     "execution_count": 529,
     "metadata": {},
     "output_type": "execute_result"
    }
   ],
   "source": [
    "loan_dt_numeric=loan_dt_numeric[:,column_indx_order]\n",
    "loan_dt_numeric"
   ]
  },
  {
   "cell_type": "markdown",
   "id": "8a905323",
   "metadata": {},
   "source": [
    "# interest rate"
   ]
  },
  {
   "cell_type": "code",
   "execution_count": 530,
   "id": "25988d7a",
   "metadata": {},
   "outputs": [
    {
     "data": {
      "text/plain": [
       "array(['id', 'loan_amnt_USD', 'loan_amnt_EUR', 'funded_amnt_USD', 'funded_amnt_EUR', 'int_rate',\n",
       "       'installment_USD', 'installment_EUR', 'total_pymnt_USD', 'total_pymnt_EUR', 'exchange_rate'],\n",
       "      dtype='<U19')"
      ]
     },
     "execution_count": 530,
     "metadata": {},
     "output_type": "execute_result"
    }
   ],
   "source": [
    "header_numeric"
   ]
  },
  {
   "cell_type": "code",
   "execution_count": 531,
   "id": "c0154b75",
   "metadata": {},
   "outputs": [
    {
     "data": {
      "text/plain": [
       "array([      13.33, 68616520.  , 68616520.  , ..., 68616520.  ,       16.55, 68616520.  ])"
      ]
     },
     "execution_count": 531,
     "metadata": {},
     "output_type": "execute_result"
    }
   ],
   "source": [
    "loan_dt_numeric[:,5]"
   ]
  },
  {
   "cell_type": "code",
   "execution_count": 532,
   "id": "98f898aa",
   "metadata": {},
   "outputs": [],
   "source": [
    "loan_dt_numeric[:,5]=loan_dt_numeric[:,5]/100"
   ]
  },
  {
   "cell_type": "code",
   "execution_count": 533,
   "id": "9af5e425",
   "metadata": {},
   "outputs": [
    {
     "data": {
      "text/plain": [
       "array([[48010226.  ,    35000.  ,    32110.09, ...,     9452.96,     8672.44,        1.09],\n",
       "       [57693261.  ,    30000.  ,    27149.32, ...,     4679.7 ,     4235.02,        1.1 ],\n",
       "       [59432726.  ,    15000.  ,    13274.34, ...,     1969.83,     1743.21,        1.13],\n",
       "       ...,\n",
       "       [50415990.  ,    10000.  ,     9090.91, ...,     2185.64,     1986.95,        1.1 ],\n",
       "       [46154151.  , 68616520.  , 61816684.68, ...,     3199.4 ,     2882.34,        1.11],\n",
       "       [66055249.  ,    10000.  ,     9174.31, ...,      301.9 ,      276.97,        1.09]])"
      ]
     },
     "execution_count": 533,
     "metadata": {},
     "output_type": "execute_result"
    }
   ],
   "source": [
    "loan_dt_numeric"
   ]
  },
  {
   "cell_type": "markdown",
   "id": "6d0d2fc0",
   "metadata": {},
   "source": [
    "# creating the complete dataset"
   ]
  },
  {
   "cell_type": "code",
   "execution_count": 534,
   "id": "3858af0e",
   "metadata": {},
   "outputs": [
    {
     "data": {
      "text/plain": [
       "(10000, 11)"
      ]
     },
     "execution_count": 534,
     "metadata": {},
     "output_type": "execute_result"
    }
   ],
   "source": [
    "loan_dt_numeric.shape"
   ]
  },
  {
   "cell_type": "code",
   "execution_count": 535,
   "id": "f5eb65eb",
   "metadata": {},
   "outputs": [
    {
     "data": {
      "text/plain": [
       "(10000, 6)"
      ]
     },
     "execution_count": 535,
     "metadata": {},
     "output_type": "execute_result"
    }
   ],
   "source": [
    "loan_dt_string.shape"
   ]
  },
  {
   "cell_type": "code",
   "execution_count": 539,
   "id": "c78a157e",
   "metadata": {},
   "outputs": [
    {
     "data": {
      "text/plain": [
       "array([['48010226.0', '35000.0', '32110.091743119265', ..., 'C3', '1', '1'],\n",
       "       ['57693261.0', '30000.0', '27149.32126696833', ..., 'A5', '1', '4'],\n",
       "       ['59432726.0', '15000.0', '13274.336283185841', ..., 'B5', '1', '4'],\n",
       "       ...,\n",
       "       ['50415990.0', '10000.0', '9090.90909090909', ..., 'A5', '1', '1'],\n",
       "       ['46154151.0', '68616520.0', '61816684.68468468', ..., 'D2', '1', '3'],\n",
       "       ['66055249.0', '10000.0', '9174.311926605504', ..., 'A4', '0', '3']], dtype='<U69')"
      ]
     },
     "execution_count": 539,
     "metadata": {},
     "output_type": "execute_result"
    }
   ],
   "source": [
    "loan_data=np.hstack((loan_dt_numeric,loan_dt_string))\n",
    "loan_data"
   ]
  },
  {
   "cell_type": "code",
   "execution_count": 552,
   "id": "2b8a1f80",
   "metadata": {},
   "outputs": [],
   "source": [
    "header_full=np.hstack((header_numeric,header_string))\n"
   ]
  },
  {
   "cell_type": "markdown",
   "id": "fb2c95ec",
   "metadata": {},
   "source": [
    "# sorting the new dataset"
   ]
  },
  {
   "cell_type": "code",
   "execution_count": 545,
   "id": "b0ff912b",
   "metadata": {},
   "outputs": [],
   "source": [
    "loan_data=loan_data[np.argsort(loan_data[:,0])]"
   ]
  },
  {
   "cell_type": "code",
   "execution_count": 546,
   "id": "7181602b",
   "metadata": {},
   "outputs": [
    {
     "data": {
      "text/plain": [
       "array([['12606806.0', '24975.0', '22704.545454545452', ..., 'B5', '1', '2'],\n",
       "       ['13026045.0', '12000.0', '10714.285714285714', ..., 'C3', '1', '2'],\n",
       "       ['1312426.0', '15000.0', '13513.513513513511', ..., 'D1', '1', '4'],\n",
       "       ...,\n",
       "       ['8138291.0', '10350.0', '9241.071428571428', ..., 'F1', '1', '4'],\n",
       "       ['8214572.0', '7000.0', '6249.999999999999', ..., 'C1', '1', '2'],\n",
       "       ['849994.0', '11400.0', '10555.555555555555', ..., 'B5', '0', '1']], dtype='<U69')"
      ]
     },
     "execution_count": 546,
     "metadata": {},
     "output_type": "execute_result"
    }
   ],
   "source": [
    "loan_data"
   ]
  },
  {
   "cell_type": "code",
   "execution_count": 554,
   "id": "79ee933a",
   "metadata": {},
   "outputs": [],
   "source": [
    "loan_data=np.vstack((header_full,loan_data))"
   ]
  },
  {
   "cell_type": "code",
   "execution_count": 555,
   "id": "b615f329",
   "metadata": {},
   "outputs": [],
   "source": [
    "np.savetxt('loan_data_preprocessed.csv',\n",
    "          loan_data,\n",
    "          fmt='%s',\n",
    "          delimiter=',')"
   ]
  }
 ],
 "metadata": {
  "kernelspec": {
   "display_name": "Python 3 (ipykernel)",
   "language": "python",
   "name": "python3"
  },
  "language_info": {
   "codemirror_mode": {
    "name": "ipython",
    "version": 3
   },
   "file_extension": ".py",
   "mimetype": "text/x-python",
   "name": "python",
   "nbconvert_exporter": "python",
   "pygments_lexer": "ipython3",
   "version": "3.9.12"
  }
 },
 "nbformat": 4,
 "nbformat_minor": 5
}

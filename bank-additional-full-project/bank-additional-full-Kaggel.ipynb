{
 "cells": [
  {
   "cell_type": "code",
   "execution_count": 1,
   "id": "e19856c1",
   "metadata": {},
   "outputs": [],
   "source": [
    "import numpy as np"
   ]
  },
  {
   "cell_type": "code",
   "execution_count": 2,
   "id": "e8c2b59e",
   "metadata": {},
   "outputs": [],
   "source": [
    "dt=np.genfromtxt('bank-additional-full.csv',delimiter=';')"
   ]
  },
  {
   "cell_type": "code",
   "execution_count": 75,
   "id": "0cab2b14",
   "metadata": {},
   "outputs": [
    {
     "data": {
      "text/plain": [
       "array(['\"age\"', '\"job\"', '\"marital\"', '\"education\"', '\"default\"',\n",
       "       '\"housing\"', '\"loan\"', '\"contact\"', '\"month\"', '\"day_of_week\"',\n",
       "       '\"duration\"', '\"campaign\"', '\"pdays\"', '\"previous\"', '\"poutcome\"',\n",
       "       '\"emp.var.rate\"', '\"cons.price.idx\"', '\"cons.conf.idx\"',\n",
       "       '\"euribor3m\"', '\"nr.employed\"', '\"y\"'], dtype='<U16')"
      ]
     },
     "execution_count": 75,
     "metadata": {},
     "output_type": "execute_result"
    }
   ],
   "source": [
    "data_header=np.genfromtxt('bank-additional-full.csv',delimiter=';',\n",
    "                         skip_footer=dt.shape[0]-1,\n",
    "                         dtype=str)\n",
    "data_header"
   ]
  },
  {
   "cell_type": "code",
   "execution_count": 3,
   "id": "9eeeb461",
   "metadata": {},
   "outputs": [
    {
     "data": {
      "text/plain": [
       "(41189, 21)"
      ]
     },
     "execution_count": 3,
     "metadata": {},
     "output_type": "execute_result"
    }
   ],
   "source": [
    "dt.shape"
   ]
  },
  {
   "cell_type": "code",
   "execution_count": 4,
   "id": "ee3e1d0e",
   "metadata": {},
   "outputs": [
    {
     "name": "stdout",
     "output_type": "stream",
     "text": [
      "1\n",
      "41189\n",
      "41189\n",
      "41189\n",
      "41189\n",
      "41189\n",
      "41189\n",
      "41189\n",
      "41189\n",
      "41189\n",
      "1\n",
      "1\n",
      "1\n",
      "1\n",
      "41189\n",
      "1\n",
      "1\n",
      "1\n",
      "1\n",
      "1\n",
      "41189\n"
     ]
    },
    {
     "ename": "IndexError",
     "evalue": "index 21 is out of bounds for axis 1 with size 21",
     "output_type": "error",
     "traceback": [
      "\u001b[1;31m---------------------------------------------------------------------------\u001b[0m",
      "\u001b[1;31mIndexError\u001b[0m                                Traceback (most recent call last)",
      "Input \u001b[1;32mIn [4]\u001b[0m, in \u001b[0;36m<cell line: 2>\u001b[1;34m()\u001b[0m\n\u001b[0;32m      1\u001b[0m n\u001b[38;5;241m=\u001b[39mnp\u001b[38;5;241m.\u001b[39misnan(dt)\u001b[38;5;241m.\u001b[39msum()\n\u001b[0;32m      2\u001b[0m \u001b[38;5;28;01mfor\u001b[39;00m i \u001b[38;5;129;01min\u001b[39;00m \u001b[38;5;28mrange\u001b[39m(\u001b[38;5;241m0\u001b[39m,n\u001b[38;5;241m-\u001b[39m\u001b[38;5;241m1\u001b[39m):\n\u001b[1;32m----> 3\u001b[0m     \u001b[38;5;28mprint\u001b[39m(np\u001b[38;5;241m.\u001b[39misnan(\u001b[43mdt\u001b[49m\u001b[43m[\u001b[49m\u001b[43m:\u001b[49m\u001b[43m,\u001b[49m\u001b[43mi\u001b[49m\u001b[43m]\u001b[49m)\u001b[38;5;241m.\u001b[39msum())\n",
      "\u001b[1;31mIndexError\u001b[0m: index 21 is out of bounds for axis 1 with size 21"
     ]
    }
   ],
   "source": [
    "n=np.isnan(dt).sum()\n",
    "for i in range(0,n-1):\n",
    "    print(np.isnan(dt[:,i]).sum())"
   ]
  },
  {
   "cell_type": "code",
   "execution_count": 5,
   "id": "960ba29c",
   "metadata": {},
   "outputs": [
    {
     "name": "stdout",
     "output_type": "stream",
     "text": [
      "class:  ndarray\n",
      "shape:  (41189, 21)\n",
      "strides:  (168, 8)\n",
      "itemsize:  8\n",
      "aligned:  True\n",
      "contiguous:  True\n",
      "fortran:  False\n",
      "data pointer: 0x2115452d040\n",
      "byteorder:  little\n",
      "byteswap:  False\n",
      "type: float64\n"
     ]
    }
   ],
   "source": [
    "np.info(dt)"
   ]
  },
  {
   "cell_type": "code",
   "execution_count": 17,
   "id": "3297d59e",
   "metadata": {},
   "outputs": [
    {
     "name": "stderr",
     "output_type": "stream",
     "text": [
      "C:\\Users\\PC\\AppData\\Local\\Temp\\ipykernel_1732\\4207410126.py:1: RuntimeWarning: Mean of empty slice\n",
      "  col_mean=np.nanmean(dt,axis=0)\n"
     ]
    },
    {
     "data": {
      "text/plain": [
       "array([ 4.00240604e+01,             nan,             nan,             nan,\n",
       "                   nan,             nan,             nan,             nan,\n",
       "                   nan,             nan,  2.58285010e+02,  2.56759250e+00,\n",
       "        9.62475454e+02,  1.72962999e-01,             nan,  8.18855006e-02,\n",
       "        9.35756644e+01, -4.05026003e+01,  3.62129081e+00,  5.16703591e+03,\n",
       "                   nan])"
      ]
     },
     "execution_count": 17,
     "metadata": {},
     "output_type": "execute_result"
    }
   ],
   "source": [
    "col_mean=np.nanmean(dt,axis=0)\n",
    "col_mean"
   ]
  },
  {
   "cell_type": "code",
   "execution_count": 25,
   "id": "a63e7e1b",
   "metadata": {},
   "outputs": [
    {
     "data": {
      "text/plain": [
       "array([ 0, 10, 11, 12, 13, 15, 16, 17, 18, 19], dtype=int64)"
      ]
     },
     "execution_count": 25,
     "metadata": {},
     "output_type": "execute_result"
    }
   ],
   "source": [
    "col_numeric=np.argwhere(np.isnan(col_mean)==False).squeeze()\n",
    "col_numeric"
   ]
  },
  {
   "cell_type": "code",
   "execution_count": 26,
   "id": "e4bbff63",
   "metadata": {},
   "outputs": [
    {
     "data": {
      "text/plain": [
       "array([ 1,  2,  3,  4,  5,  6,  7,  8,  9, 14, 20], dtype=int64)"
      ]
     },
     "execution_count": 26,
     "metadata": {},
     "output_type": "execute_result"
    }
   ],
   "source": [
    "col_string=np.argwhere(np.isnan(col_mean)).squeeze()\n",
    "col_string"
   ]
  },
  {
   "cell_type": "code",
   "execution_count": 76,
   "id": "eb7e8798",
   "metadata": {},
   "outputs": [
    {
     "data": {
      "text/plain": [
       "array([[  56,  261,    1, ...,  -36,    4, 5191],\n",
       "       [  57,  149,    1, ...,  -36,    4, 5191],\n",
       "       [  37,  226,    1, ...,  -36,    4, 5191],\n",
       "       ...,\n",
       "       [  56,  189,    2, ...,  -50,    1, 4963],\n",
       "       [  44,  442,    1, ...,  -50,    1, 4963],\n",
       "       [  74,  239,    3, ...,  -50,    1, 4963]])"
      ]
     },
     "execution_count": 76,
     "metadata": {},
     "output_type": "execute_result"
    }
   ],
   "source": [
    "data_numeric=np.genfromtxt('bank-additional-full.csv',\n",
    "                           delimiter=';',\n",
    "                          skip_header=1,\n",
    "                          usecols=col_numeric,\n",
    "                          dtype=int)\n",
    "data_numeric"
   ]
  },
  {
   "cell_type": "code",
   "execution_count": 77,
   "id": "9702138c",
   "metadata": {},
   "outputs": [
    {
     "data": {
      "text/plain": [
       "0"
      ]
     },
     "execution_count": 77,
     "metadata": {},
     "output_type": "execute_result"
    }
   ],
   "source": [
    "np.isnan(data_numeric).sum()"
   ]
  },
  {
   "cell_type": "code",
   "execution_count": 78,
   "id": "ac7f7678",
   "metadata": {},
   "outputs": [
    {
     "data": {
      "text/plain": [
       "array(['\"age\"', '\"duration\"', '\"campaign\"', '\"pdays\"', '\"previous\"',\n",
       "       '\"emp.var.rate\"', '\"cons.price.idx\"', '\"cons.conf.idx\"',\n",
       "       '\"euribor3m\"', '\"nr.employed\"'], dtype='<U16')"
      ]
     },
     "execution_count": 78,
     "metadata": {},
     "output_type": "execute_result"
    }
   ],
   "source": [
    "data_header[col_numeric]"
   ]
  },
  {
   "cell_type": "code",
   "execution_count": 85,
   "id": "ddb6f156",
   "metadata": {},
   "outputs": [
    {
     "name": "stdout",
     "output_type": "stream",
     "text": [
      "\"age\" \n",
      "**********\n",
      " [17 18 19 20 21 22 23 24 25 26 27 28 29 30 31 32 33 34 35 36 37 38 39 40\n",
      " 41 42 43 44 45 46 47 48 49 50 51 52 53 54 55 56 57 58 59 60 61 62 63 64\n",
      " 65 66 67 68 69 70 71 72 73 74 75 76 77 78 79 80 81 82 83 84 85 86 87 88\n",
      " 89 91 92 94 95 98]\n",
      "____________________________\n",
      "\"duration\" \n",
      "**********\n",
      " [   0    1    2 ... 3785 4199 4918]\n",
      "____________________________\n",
      "\"campaign\" \n",
      "**********\n",
      " [ 1  2  3  4  5  6  7  8  9 10 11 12 13 14 15 16 17 18 19 20 21 22 23 24\n",
      " 25 26 27 28 29 30 31 32 33 34 35 37 39 40 41 42 43 56]\n",
      "____________________________\n",
      "\"pdays\" \n",
      "**********\n",
      " [  0   1   2   3   4   5   6   7   8   9  10  11  12  13  14  15  16  17\n",
      "  18  19  20  21  22  25  26  27 999]\n",
      "____________________________\n",
      "\"previous\" \n",
      "**********\n",
      " [0 1 2 3 4 5 6 7]\n",
      "____________________________\n",
      "\"emp.var.rate\" \n",
      "**********\n",
      " [-3 -2 -1  0  1]\n",
      "____________________________\n",
      "\"cons.price.idx\" \n",
      "**********\n",
      " [92 93 94]\n",
      "____________________________\n",
      "\"cons.conf.idx\" \n",
      "**********\n",
      " [-50 -49 -47 -46 -45 -42 -41 -40 -39 -38 -37 -36 -34 -33 -31 -30 -29 -26]\n",
      "____________________________\n",
      "\"euribor3m\" \n",
      "**********\n",
      " [0 1 3 4 5]\n",
      "____________________________\n",
      "\"nr.employed\" \n",
      "**********\n",
      " [4963 4991 5008 5017 5023 5076 5099 5176 5191 5195 5228]\n",
      "____________________________\n"
     ]
    }
   ],
   "source": [
    "for i in range(0,col_numeric.size):\n",
    "    print(data_header[col_numeric[i]],\"\\n**********\\n\",np.unique(data_numeric[:,i]))\n",
    "    print(\"____________________________\")"
   ]
  },
  {
   "cell_type": "markdown",
   "id": "ee9110f7",
   "metadata": {},
   "source": [
    "# so the numeric value don't have nan value\n",
    "# now we work with string column"
   ]
  },
  {
   "cell_type": "markdown",
   "id": "14a858e8",
   "metadata": {},
   "source": [
    "# "
   ]
  },
  {
   "cell_type": "code",
   "execution_count": 68,
   "id": "e322fdd5",
   "metadata": {},
   "outputs": [
    {
     "data": {
      "text/plain": [
       "array([['\"housemaid\"', '\"married\"', '\"basic.4y\"', ..., '\"mon\"',\n",
       "        '\"nonexistent\"', '\"no\"'],\n",
       "       ['\"services\"', '\"married\"', '\"high.school\"', ..., '\"mon\"',\n",
       "        '\"nonexistent\"', '\"no\"'],\n",
       "       ['\"services\"', '\"married\"', '\"high.school\"', ..., '\"mon\"',\n",
       "        '\"nonexistent\"', '\"no\"'],\n",
       "       ...,\n",
       "       ['\"retired\"', '\"married\"', '\"university.degree\"', ..., '\"fri\"',\n",
       "        '\"nonexistent\"', '\"no\"'],\n",
       "       ['\"technician\"', '\"married\"', '\"professional.course\"', ...,\n",
       "        '\"fri\"', '\"nonexistent\"', '\"yes\"'],\n",
       "       ['\"retired\"', '\"married\"', '\"professional.course\"', ..., '\"fri\"',\n",
       "        '\"failure\"', '\"no\"']], dtype='<U21')"
      ]
     },
     "execution_count": 68,
     "metadata": {},
     "output_type": "execute_result"
    }
   ],
   "source": [
    "data_string=np.genfromtxt('bank-additional-full.csv',\n",
    "                         delimiter=';',\n",
    "                         skip_header=1,\n",
    "                         usecols=col_string,\n",
    "                         dtype=str)\n",
    "data_string"
   ]
  },
  {
   "cell_type": "code",
   "execution_count": 69,
   "id": "9ddd5115",
   "metadata": {},
   "outputs": [
    {
     "name": "stdout",
     "output_type": "stream",
     "text": [
      "class:  ndarray\n",
      "shape:  (41188, 11)\n",
      "strides:  (924, 84)\n",
      "itemsize:  84\n",
      "aligned:  True\n",
      "contiguous:  True\n",
      "fortran:  False\n",
      "data pointer: 0x21157029040\n",
      "byteorder:  little\n",
      "byteswap:  False\n",
      "type: <U21\n"
     ]
    }
   ],
   "source": [
    "np.info(data_string)"
   ]
  },
  {
   "cell_type": "code",
   "execution_count": 84,
   "id": "dccb34a0",
   "metadata": {},
   "outputs": [
    {
     "name": "stdout",
     "output_type": "stream",
     "text": [
      "\"job\" \n",
      "***********\n",
      " ['\"admin.\"' '\"blue-collar\"' '\"entrepreneur\"' '\"housemaid\"' '\"management\"'\n",
      " '\"retired\"' '\"self-employed\"' '\"services\"' '\"student\"' '\"technician\"'\n",
      " '\"unemployed\"' '\"unknown\"']\n",
      "______________________________________\n",
      "\"marital\" \n",
      "***********\n",
      " ['\"divorced\"' '\"married\"' '\"single\"' '\"unknown\"']\n",
      "______________________________________\n",
      "\"education\" \n",
      "***********\n",
      " ['\"basic.4y\"' '\"basic.6y\"' '\"basic.9y\"' '\"high.school\"' '\"illiterate\"'\n",
      " '\"professional.course\"' '\"university.degree\"' '\"unknown\"']\n",
      "______________________________________\n",
      "\"default\" \n",
      "***********\n",
      " ['\"no\"' '\"unknown\"' '\"yes\"']\n",
      "______________________________________\n",
      "\"housing\" \n",
      "***********\n",
      " ['\"no\"' '\"unknown\"' '\"yes\"']\n",
      "______________________________________\n",
      "\"loan\" \n",
      "***********\n",
      " ['\"no\"' '\"unknown\"' '\"yes\"']\n",
      "______________________________________\n",
      "\"contact\" \n",
      "***********\n",
      " ['\"cellular\"' '\"telephone\"']\n",
      "______________________________________\n",
      "\"month\" \n",
      "***********\n",
      " ['\"apr\"' '\"aug\"' '\"dec\"' '\"jul\"' '\"jun\"' '\"mar\"' '\"may\"' '\"nov\"' '\"oct\"'\n",
      " '\"sep\"']\n",
      "______________________________________\n",
      "\"day_of_week\" \n",
      "***********\n",
      " ['\"fri\"' '\"mon\"' '\"thu\"' '\"tue\"' '\"wed\"']\n",
      "______________________________________\n",
      "\"poutcome\" \n",
      "***********\n",
      " ['\"failure\"' '\"nonexistent\"' '\"success\"']\n",
      "______________________________________\n",
      "\"y\" \n",
      "***********\n",
      " ['\"no\"' '\"yes\"']\n",
      "______________________________________\n"
     ]
    }
   ],
   "source": [
    "for i in range(col_string.size):\n",
    "    print(data_header[col_string[i]],\"\\n***********\\n\",np.unique(data_string[:,i]))\n",
    "    print(\"______________________________________\")"
   ]
  },
  {
   "cell_type": "code",
   "execution_count": 66,
   "id": "50bf05d6",
   "metadata": {},
   "outputs": [
    {
     "data": {
      "text/plain": [
       "array(['\"divorced\"', '\"married\"', '\"single\"', '\"unknown\"'], dtype='<U21')"
      ]
     },
     "execution_count": 66,
     "metadata": {},
     "output_type": "execute_result"
    }
   ],
   "source": []
  }
 ],
 "metadata": {
  "kernelspec": {
   "display_name": "Python 3 (ipykernel)",
   "language": "python",
   "name": "python3"
  },
  "language_info": {
   "codemirror_mode": {
    "name": "ipython",
    "version": 3
   },
   "file_extension": ".py",
   "mimetype": "text/x-python",
   "name": "python",
   "nbconvert_exporter": "python",
   "pygments_lexer": "ipython3",
   "version": "3.9.12"
  }
 },
 "nbformat": 4,
 "nbformat_minor": 5
}
